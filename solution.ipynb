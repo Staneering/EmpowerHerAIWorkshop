{
 "cells": [
  {
   "cell_type": "markdown",
   "id": "b4bee353-2475-4fce-b000-4ba00eb8c206",
   "metadata": {},
   "source": [
    "# 📝 Python Basics Assignment: Solution - Student Profile System\n",
    "\n",
    "# Step 1: Create student variables\n",
    "full_name = \"  alice JOHNSON  \"\n",
    "age = \"21\"\n",
    "subjects = [\"math\", \"english\", \"biology\"]\n",
    "admission_year = 2024\n",
    "\n",
    "# Step 2: Clean up the name\n",
    "clean_name = full_name.strip().title()\n",
    "\n",
    "# Step 3: Convert age to integer and simulate birthday\n",
    "age = int(age)\n",
    "age += 1\n",
    "\n",
    "# Step 4: Manipulate the subjects list\n",
    "subjects.append(\"chemistry\")\n",
    "subjects.insert(1, \"computer science\")\n",
    "subjects.remove(\"english\")\n",
    "subjects.sort()\n",
    "\n",
    "# Step 5: Create final summary string\n",
    "subjects_str = \", \".join([subject.title() for subject in subjects])\n",
    "\n",
    "summary = f\"\"\"\n",
    "Student Profile:\n",
    "Name: {clean_name}\n",
    "Age: {age}\n",
    "Admission Year: {admission_year}\n",
    "Subjects: {subjects_str}\n",
    "\"\"\"\n",
    "\n",
    "print(summary)\n",
    "\n",
    "# Output:\n",
    "# Student Profile:\n",
    "# Name: Alice Johnson\n",
    "# Age: 22\n",
    "# Admission Year: 2024\n",
    "# Subjects: Biology, Chemistry, Computer Science, Math\n"
   ]
  },
  {
   "cell_type": "code",
   "execution_count": null,
   "id": "76654ddf-0255-43fe-b1a5-b5aeded736d1",
   "metadata": {},
   "outputs": [],
   "source": []
  }
 ],
 "metadata": {
  "kernelspec": {
   "display_name": "Python 3 (ipykernel)",
   "language": "python",
   "name": "python3"
  },
  "language_info": {
   "codemirror_mode": {
    "name": "ipython",
    "version": 3
   },
   "file_extension": ".py",
   "mimetype": "text/x-python",
   "name": "python",
   "nbconvert_exporter": "python",
   "pygments_lexer": "ipython3",
   "version": "3.12.3"
  }
 },
 "nbformat": 4,
 "nbformat_minor": 5
}
