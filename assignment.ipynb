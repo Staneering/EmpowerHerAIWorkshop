{
 "cells": [
  {
   "cell_type": "markdown",
   "id": "67a1778a-7988-404a-a90a-ede5bca2df5e",
   "metadata": {},
   "source": [
    " **List methods**\n",
    "\n",
    "---\n",
    "\n",
    "### 📝 **Python Basics Assignment: Build a Simple Student Profile System**\n",
    "\n",
    "#### 📘 Instructions:\n",
    "\n",
    "You are to simulate a simple system for collecting and formatting student data using everything you've learned in basic Python.\n",
    "\n",
    "---\n",
    "\n",
    "### 💡 **Assignment Tasks:**\n",
    "\n",
    "#### 1. **Create variables** to hold the following information about a student:\n",
    "\n",
    "* Full name (as one string, e.g., `\"  alice JOHNSON  \"`)\n",
    "* Age (as a string, e.g., `\"21\"`)\n",
    "* List of subjects offered (e.g., `[\"math\", \"english\", \"biology\"]`)\n",
    "* Admission year (e.g., `2024`)\n",
    "\n",
    "#### 2. **Clean up the name**:\n",
    "\n",
    "* Strip extra whitespace\n",
    "* Convert it to **title case**\n",
    "* Store it in a new variable called `clean_name`\n",
    "\n",
    "#### 3. **Convert the age** to an integer and increase it by 1 (simulate a birthday).\n",
    "\n",
    "#### 4. **Manipulate the subject list**:\n",
    "\n",
    "* Add `\"chemistry\"` to the list.\n",
    "* Insert `\"computer science\"` at index 1.\n",
    "* Remove `\"english\"` from the list.\n",
    "* Sort the list alphabetically.\n",
    "\n",
    "#### 5. **Create a final summary string** in this format:\n",
    "\n",
    "```\n",
    "\"Student Profile:\n",
    "Name: Alice Johnson\n",
    "Age: 22\n",
    "Admission Year: 2024\n",
    "Subjects: Biology, Chemistry, Computer Science, Math\"\n",
    "```\n",
    "\n",
    "> Use string methods and list methods to format this output.\n",
    "\n",
    "---\n",
    "\n",
    "\n"
   ]
  },
  {
   "cell_type": "code",
   "execution_count": null,
   "id": "0c6e4e60-daaf-4729-91d0-1c01091cf1fd",
   "metadata": {},
   "outputs": [],
   "source": []
  }
 ],
 "metadata": {
  "kernelspec": {
   "display_name": "Python 3 (ipykernel)",
   "language": "python",
   "name": "python3"
  },
  "language_info": {
   "codemirror_mode": {
    "name": "ipython",
    "version": 3
   },
   "file_extension": ".py",
   "mimetype": "text/x-python",
   "name": "python",
   "nbconvert_exporter": "python",
   "pygments_lexer": "ipython3",
   "version": "3.12.3"
  }
 },
 "nbformat": 4,
 "nbformat_minor": 5
}
